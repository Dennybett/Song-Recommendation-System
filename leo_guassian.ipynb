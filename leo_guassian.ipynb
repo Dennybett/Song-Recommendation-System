{
 "cells": [
  {
   "cell_type": "code",
   "execution_count": 21,
   "metadata": {},
   "outputs": [],
   "source": [
    "# Import Dependencies\n",
    "import os\n",
    "import numpy as np\n",
    "import pandas as pd\n",
    "import utils as utils\n",
    "\n",
    "import matplotlib.pyplot as plt\n",
    "from sklearn import metrics\n",
    "from sklearn.cluster import KMeans, AgglomerativeClustering, Birch, dbscan\n",
    "from sklearn.preprocessing import StandardScaler, MinMaxScaler, OneHotEncoder\n",
    "from sklearn.neighbors import NearestNeighbors\n",
    "from sklearn.pipeline import Pipeline\n",
    "from sklearn.manifold import TSNE\n",
    "from sklearn.decomposition import PCA\n",
    "from sklearn.metrics import euclidean_distances\n",
    "from scipy.spatial.distance import cdist\n",
    "from sklearn.model_selection import train_test_split\n",
    "# import warnings\n",
    "#   warnings.filterwarnings(\"ignore\")"
   ]
  },
  {
   "cell_type": "markdown",
   "metadata": {},
   "source": [
    "### Preprocessing"
   ]
  },
  {
   "cell_type": "code",
   "execution_count": 2,
   "metadata": {},
   "outputs": [],
   "source": [
    "# Import and read the data\n",
    "df_raw = pd.read_csv(\"data/top_10000_1960-now.csv\")"
   ]
  },
  {
   "cell_type": "code",
   "execution_count": 3,
   "metadata": {},
   "outputs": [
    {
     "data": {
      "text/html": [
       "<div>\n",
       "<style scoped>\n",
       "    .dataframe tbody tr th:only-of-type {\n",
       "        vertical-align: middle;\n",
       "    }\n",
       "\n",
       "    .dataframe tbody tr th {\n",
       "        vertical-align: top;\n",
       "    }\n",
       "\n",
       "    .dataframe thead th {\n",
       "        text-align: right;\n",
       "    }\n",
       "</style>\n",
       "<table border=\"1\" class=\"dataframe\">\n",
       "  <thead>\n",
       "    <tr style=\"text-align: right;\">\n",
       "      <th></th>\n",
       "      <th>Track URI</th>\n",
       "      <th>Track Name</th>\n",
       "      <th>Artist URI(s)</th>\n",
       "      <th>Artist Name(s)</th>\n",
       "      <th>Album URI</th>\n",
       "      <th>Album Name</th>\n",
       "      <th>Album Artist URI(s)</th>\n",
       "      <th>Album Artist Name(s)</th>\n",
       "      <th>Album Release Date</th>\n",
       "      <th>Album Image URL</th>\n",
       "      <th>...</th>\n",
       "      <th>Speechiness</th>\n",
       "      <th>Acousticness</th>\n",
       "      <th>Instrumentalness</th>\n",
       "      <th>Liveness</th>\n",
       "      <th>Valence</th>\n",
       "      <th>Tempo</th>\n",
       "      <th>Time Signature</th>\n",
       "      <th>Album Genres</th>\n",
       "      <th>Label</th>\n",
       "      <th>Copyrights</th>\n",
       "    </tr>\n",
       "  </thead>\n",
       "  <tbody>\n",
       "    <tr>\n",
       "      <th>0</th>\n",
       "      <td>spotify:track:1XAZlnVtthcDZt2NI1Dtxo</td>\n",
       "      <td>Justified &amp; Ancient - Stand by the Jams</td>\n",
       "      <td>spotify:artist:6dYrdRlNZSKaVxYg5IrvCH</td>\n",
       "      <td>The KLF</td>\n",
       "      <td>spotify:album:4MC0ZjNtVP1nDD5lsLxFjc</td>\n",
       "      <td>Songs Collection</td>\n",
       "      <td>spotify:artist:6dYrdRlNZSKaVxYg5IrvCH</td>\n",
       "      <td>The KLF</td>\n",
       "      <td>1992-08-03</td>\n",
       "      <td>https://i.scdn.co/image/ab67616d0000b27355346b...</td>\n",
       "      <td>...</td>\n",
       "      <td>0.0480</td>\n",
       "      <td>0.0158</td>\n",
       "      <td>0.112000</td>\n",
       "      <td>0.4080</td>\n",
       "      <td>0.504</td>\n",
       "      <td>111.458</td>\n",
       "      <td>4.0</td>\n",
       "      <td>NaN</td>\n",
       "      <td>Jams Communications</td>\n",
       "      <td>C 1992 Copyright Control, P 1992 Jams Communic...</td>\n",
       "    </tr>\n",
       "    <tr>\n",
       "      <th>1</th>\n",
       "      <td>spotify:track:6a8GbQIlV8HBUW3c6Uk9PH</td>\n",
       "      <td>I Know You Want Me (Calle Ocho)</td>\n",
       "      <td>spotify:artist:0TnOYISbd1XYRBk9myaseg</td>\n",
       "      <td>Pitbull</td>\n",
       "      <td>spotify:album:5xLAcbvbSAlRtPXnKkggXA</td>\n",
       "      <td>Pitbull Starring In Rebelution</td>\n",
       "      <td>spotify:artist:0TnOYISbd1XYRBk9myaseg</td>\n",
       "      <td>Pitbull</td>\n",
       "      <td>2009-10-23</td>\n",
       "      <td>https://i.scdn.co/image/ab67616d0000b27326d73a...</td>\n",
       "      <td>...</td>\n",
       "      <td>0.1490</td>\n",
       "      <td>0.0142</td>\n",
       "      <td>0.000021</td>\n",
       "      <td>0.2370</td>\n",
       "      <td>0.800</td>\n",
       "      <td>127.045</td>\n",
       "      <td>4.0</td>\n",
       "      <td>NaN</td>\n",
       "      <td>Mr.305/Polo Grounds Music/J Records</td>\n",
       "      <td>P (P) 2009 RCA/JIVE Label Group, a unit of Son...</td>\n",
       "    </tr>\n",
       "    <tr>\n",
       "      <th>2</th>\n",
       "      <td>spotify:track:70XtWbcVZcpaOddJftMcVi</td>\n",
       "      <td>From the Bottom of My Broken Heart</td>\n",
       "      <td>spotify:artist:26dSoYclwsYLMAKD3tpOr4</td>\n",
       "      <td>Britney Spears</td>\n",
       "      <td>spotify:album:3WNxdumkSMGMJRhEgK80qx</td>\n",
       "      <td>...Baby One More Time (Digital Deluxe Version)</td>\n",
       "      <td>spotify:artist:26dSoYclwsYLMAKD3tpOr4</td>\n",
       "      <td>Britney Spears</td>\n",
       "      <td>1999-01-12</td>\n",
       "      <td>https://i.scdn.co/image/ab67616d0000b2738e4986...</td>\n",
       "      <td>...</td>\n",
       "      <td>0.0305</td>\n",
       "      <td>0.5600</td>\n",
       "      <td>0.000001</td>\n",
       "      <td>0.3380</td>\n",
       "      <td>0.706</td>\n",
       "      <td>74.981</td>\n",
       "      <td>4.0</td>\n",
       "      <td>NaN</td>\n",
       "      <td>Jive</td>\n",
       "      <td>P (P) 1999 Zomba Recording LLC</td>\n",
       "    </tr>\n",
       "    <tr>\n",
       "      <th>3</th>\n",
       "      <td>spotify:track:1NXUWyPJk5kO6DQJ5t7bDu</td>\n",
       "      <td>Apeman - 2014 Remastered Version</td>\n",
       "      <td>spotify:artist:1SQRv42e4PjEYfPhS0Tk9E</td>\n",
       "      <td>The Kinks</td>\n",
       "      <td>spotify:album:6lL6HugNEN4Vlc8sj0Zcse</td>\n",
       "      <td>Lola vs. Powerman and the Moneygoround, Pt. On...</td>\n",
       "      <td>spotify:artist:1SQRv42e4PjEYfPhS0Tk9E</td>\n",
       "      <td>The Kinks</td>\n",
       "      <td>2014-10-20</td>\n",
       "      <td>https://i.scdn.co/image/ab67616d0000b2731e7c53...</td>\n",
       "      <td>...</td>\n",
       "      <td>0.2590</td>\n",
       "      <td>0.5680</td>\n",
       "      <td>0.000051</td>\n",
       "      <td>0.0384</td>\n",
       "      <td>0.833</td>\n",
       "      <td>75.311</td>\n",
       "      <td>4.0</td>\n",
       "      <td>NaN</td>\n",
       "      <td>Sanctuary Records</td>\n",
       "      <td>C © 2014 Sanctuary Records Group Ltd., a BMG C...</td>\n",
       "    </tr>\n",
       "    <tr>\n",
       "      <th>4</th>\n",
       "      <td>spotify:track:72WZtWs6V7uu3aMgMmEkYe</td>\n",
       "      <td>You Can't Always Get What You Want</td>\n",
       "      <td>spotify:artist:22bE4uQ6baNwSHPVcDxLCe</td>\n",
       "      <td>The Rolling Stones</td>\n",
       "      <td>spotify:album:0c78nsgqX6VfniSNWIxwoD</td>\n",
       "      <td>Let It Bleed</td>\n",
       "      <td>spotify:artist:22bE4uQ6baNwSHPVcDxLCe</td>\n",
       "      <td>The Rolling Stones</td>\n",
       "      <td>1969-12-05</td>\n",
       "      <td>https://i.scdn.co/image/ab67616d0000b27373d927...</td>\n",
       "      <td>...</td>\n",
       "      <td>0.0687</td>\n",
       "      <td>0.6750</td>\n",
       "      <td>0.000073</td>\n",
       "      <td>0.2890</td>\n",
       "      <td>0.497</td>\n",
       "      <td>85.818</td>\n",
       "      <td>4.0</td>\n",
       "      <td>NaN</td>\n",
       "      <td>Universal Music Group</td>\n",
       "      <td>C © 2002 ABKCO Music &amp; Records Inc., P ℗ 2002 ...</td>\n",
       "    </tr>\n",
       "  </tbody>\n",
       "</table>\n",
       "<p>5 rows × 35 columns</p>\n",
       "</div>"
      ],
      "text/plain": [
       "                              Track URI  \\\n",
       "0  spotify:track:1XAZlnVtthcDZt2NI1Dtxo   \n",
       "1  spotify:track:6a8GbQIlV8HBUW3c6Uk9PH   \n",
       "2  spotify:track:70XtWbcVZcpaOddJftMcVi   \n",
       "3  spotify:track:1NXUWyPJk5kO6DQJ5t7bDu   \n",
       "4  spotify:track:72WZtWs6V7uu3aMgMmEkYe   \n",
       "\n",
       "                                Track Name  \\\n",
       "0  Justified & Ancient - Stand by the Jams   \n",
       "1          I Know You Want Me (Calle Ocho)   \n",
       "2       From the Bottom of My Broken Heart   \n",
       "3         Apeman - 2014 Remastered Version   \n",
       "4       You Can't Always Get What You Want   \n",
       "\n",
       "                           Artist URI(s)      Artist Name(s)  \\\n",
       "0  spotify:artist:6dYrdRlNZSKaVxYg5IrvCH             The KLF   \n",
       "1  spotify:artist:0TnOYISbd1XYRBk9myaseg             Pitbull   \n",
       "2  spotify:artist:26dSoYclwsYLMAKD3tpOr4      Britney Spears   \n",
       "3  spotify:artist:1SQRv42e4PjEYfPhS0Tk9E           The Kinks   \n",
       "4  spotify:artist:22bE4uQ6baNwSHPVcDxLCe  The Rolling Stones   \n",
       "\n",
       "                              Album URI  \\\n",
       "0  spotify:album:4MC0ZjNtVP1nDD5lsLxFjc   \n",
       "1  spotify:album:5xLAcbvbSAlRtPXnKkggXA   \n",
       "2  spotify:album:3WNxdumkSMGMJRhEgK80qx   \n",
       "3  spotify:album:6lL6HugNEN4Vlc8sj0Zcse   \n",
       "4  spotify:album:0c78nsgqX6VfniSNWIxwoD   \n",
       "\n",
       "                                          Album Name  \\\n",
       "0                                   Songs Collection   \n",
       "1                     Pitbull Starring In Rebelution   \n",
       "2     ...Baby One More Time (Digital Deluxe Version)   \n",
       "3  Lola vs. Powerman and the Moneygoround, Pt. On...   \n",
       "4                                       Let It Bleed   \n",
       "\n",
       "                     Album Artist URI(s) Album Artist Name(s)  \\\n",
       "0  spotify:artist:6dYrdRlNZSKaVxYg5IrvCH              The KLF   \n",
       "1  spotify:artist:0TnOYISbd1XYRBk9myaseg              Pitbull   \n",
       "2  spotify:artist:26dSoYclwsYLMAKD3tpOr4       Britney Spears   \n",
       "3  spotify:artist:1SQRv42e4PjEYfPhS0Tk9E            The Kinks   \n",
       "4  spotify:artist:22bE4uQ6baNwSHPVcDxLCe   The Rolling Stones   \n",
       "\n",
       "  Album Release Date                                    Album Image URL  ...  \\\n",
       "0         1992-08-03  https://i.scdn.co/image/ab67616d0000b27355346b...  ...   \n",
       "1         2009-10-23  https://i.scdn.co/image/ab67616d0000b27326d73a...  ...   \n",
       "2         1999-01-12  https://i.scdn.co/image/ab67616d0000b2738e4986...  ...   \n",
       "3         2014-10-20  https://i.scdn.co/image/ab67616d0000b2731e7c53...  ...   \n",
       "4         1969-12-05  https://i.scdn.co/image/ab67616d0000b27373d927...  ...   \n",
       "\n",
       "   Speechiness  Acousticness  Instrumentalness Liveness  Valence    Tempo  \\\n",
       "0       0.0480        0.0158          0.112000   0.4080    0.504  111.458   \n",
       "1       0.1490        0.0142          0.000021   0.2370    0.800  127.045   \n",
       "2       0.0305        0.5600          0.000001   0.3380    0.706   74.981   \n",
       "3       0.2590        0.5680          0.000051   0.0384    0.833   75.311   \n",
       "4       0.0687        0.6750          0.000073   0.2890    0.497   85.818   \n",
       "\n",
       "  Time Signature Album Genres                                Label  \\\n",
       "0            4.0          NaN                  Jams Communications   \n",
       "1            4.0          NaN  Mr.305/Polo Grounds Music/J Records   \n",
       "2            4.0          NaN                                 Jive   \n",
       "3            4.0          NaN                    Sanctuary Records   \n",
       "4            4.0          NaN                Universal Music Group   \n",
       "\n",
       "                                          Copyrights  \n",
       "0  C 1992 Copyright Control, P 1992 Jams Communic...  \n",
       "1  P (P) 2009 RCA/JIVE Label Group, a unit of Son...  \n",
       "2                     P (P) 1999 Zomba Recording LLC  \n",
       "3  C © 2014 Sanctuary Records Group Ltd., a BMG C...  \n",
       "4  C © 2002 ABKCO Music & Records Inc., P ℗ 2002 ...  \n",
       "\n",
       "[5 rows x 35 columns]"
      ]
     },
     "execution_count": 3,
     "metadata": {},
     "output_type": "execute_result"
    }
   ],
   "source": [
    "df_raw.head()"
   ]
  },
  {
   "cell_type": "code",
   "execution_count": 4,
   "metadata": {},
   "outputs": [
    {
     "data": {
      "text/plain": [
       "Index(['Track URI', 'Track Name', 'Artist URI(s)', 'Artist Name(s)',\n",
       "       'Album URI', 'Album Name', 'Album Artist URI(s)',\n",
       "       'Album Artist Name(s)', 'Album Release Date', 'Album Image URL',\n",
       "       'Disc Number', 'Track Number', 'Track Duration (ms)',\n",
       "       'Track Preview URL', 'Explicit', 'Popularity', 'ISRC', 'Added By',\n",
       "       'Added At', 'Artist Genres', 'Danceability', 'Energy', 'Key',\n",
       "       'Loudness', 'Mode', 'Speechiness', 'Acousticness', 'Instrumentalness',\n",
       "       'Liveness', 'Valence', 'Tempo', 'Time Signature', 'Album Genres',\n",
       "       'Label', 'Copyrights'],\n",
       "      dtype='object')"
      ]
     },
     "execution_count": 4,
     "metadata": {},
     "output_type": "execute_result"
    }
   ],
   "source": [
    "# list columns for features and target\n",
    "df_raw.columns"
   ]
  },
  {
   "cell_type": "code",
   "execution_count": 5,
   "metadata": {},
   "outputs": [],
   "source": [
    "# Drop unnecessary columns\n",
    "# Listing all columns for review\n",
    "# all columns are listed\n",
    "# commenting out the columns to keep\n",
    "df_data = df_raw.drop(['Track URI',\n",
    "                       #'Track Name',\n",
    "                       'Artist URI(s)',\n",
    "                       'Artist Name(s)',\n",
    "                       'Album URI',\n",
    "                       'Album Name',\n",
    "                       'Album Artist URI(s)',\n",
    "                       'Album Artist Name(s)',\n",
    "                       'Album Release Date',\n",
    "                       'Album Image URL',\n",
    "                       'Disc Number',\n",
    "                       'Track Number',\n",
    "                       'Track Duration (ms)',\n",
    "                       'Track Preview URL',\n",
    "                       'Explicit',\n",
    "                       'Popularity',\n",
    "                       'ISRC',\n",
    "                       'Added By',\n",
    "                       'Added At',\n",
    "                       'Artist Genres',\n",
    "                       #'Danceability',\n",
    "                       #'Energy',\n",
    "                       #'Key',\n",
    "                       'Loudness',\n",
    "                       'Mode',\n",
    "                       #'Speechiness',\n",
    "                       #'Acousticness',\n",
    "                       #'Instrumentalness',\n",
    "                       #'Liveness',\n",
    "                       #'Valence',\n",
    "                       #'Tempo',\n",
    "                       'Time Signature',\n",
    "                       'Album Genres',\n",
    "                       'Label',\n",
    "                       'Copyrights'],\n",
    "                       axis=1)"
   ]
  },
  {
   "cell_type": "code",
   "execution_count": 6,
   "metadata": {},
   "outputs": [],
   "source": [
    "# Renaming columns to convention\n",
    "df_data = df_data.rename(columns={\n",
    "                   'Track Name': 'song',\n",
    "                   'Album Image URL': 'image',\n",
    "                   'Popularity': 'popularity',\n",
    "                   'Danceability': 'danceability',\n",
    "                   'Energy': 'energy',\n",
    "                   'Key': 'key',\n",
    "                   'Speechiness': 'speechiness',\n",
    "                   'Acousticness': 'acousticness',\n",
    "                   'Instrumentalness': 'instrumentalness',\n",
    "                   'Liveness': 'liveness',\n",
    "                   'Valence': 'valence',\n",
    "                   'Tempo': 'tempo'\n",
    "       })"
   ]
  },
  {
   "cell_type": "code",
   "execution_count": 7,
   "metadata": {},
   "outputs": [
    {
     "data": {
      "text/plain": [
       "song                 object\n",
       "danceability        float64\n",
       "energy              float64\n",
       "key                 float64\n",
       "speechiness         float64\n",
       "acousticness        float64\n",
       "instrumentalness    float64\n",
       "liveness            float64\n",
       "valence             float64\n",
       "tempo               float64\n",
       "dtype: object"
      ]
     },
     "execution_count": 7,
     "metadata": {},
     "output_type": "execute_result"
    }
   ],
   "source": [
    "# Verifying name update and\n",
    "# Reviewing datatypes for analysis\n",
    "df_data.dtypes"
   ]
  },
  {
   "cell_type": "code",
   "execution_count": 8,
   "metadata": {},
   "outputs": [],
   "source": [
    "# removing duplicates\n",
    "df_data = df_data.drop_duplicates(subset=None, keep='first', inplace=False)"
   ]
  },
  {
   "cell_type": "code",
   "execution_count": 9,
   "metadata": {},
   "outputs": [
    {
     "data": {
      "text/html": [
       "<div>\n",
       "<style scoped>\n",
       "    .dataframe tbody tr th:only-of-type {\n",
       "        vertical-align: middle;\n",
       "    }\n",
       "\n",
       "    .dataframe tbody tr th {\n",
       "        vertical-align: top;\n",
       "    }\n",
       "\n",
       "    .dataframe thead th {\n",
       "        text-align: right;\n",
       "    }\n",
       "</style>\n",
       "<table border=\"1\" class=\"dataframe\">\n",
       "  <thead>\n",
       "    <tr style=\"text-align: right;\">\n",
       "      <th></th>\n",
       "      <th>song</th>\n",
       "      <th>danceability</th>\n",
       "      <th>energy</th>\n",
       "      <th>key</th>\n",
       "      <th>speechiness</th>\n",
       "      <th>acousticness</th>\n",
       "      <th>instrumentalness</th>\n",
       "      <th>liveness</th>\n",
       "      <th>valence</th>\n",
       "      <th>tempo</th>\n",
       "    </tr>\n",
       "  </thead>\n",
       "  <tbody>\n",
       "    <tr>\n",
       "      <th>0</th>\n",
       "      <td>Justified &amp; Ancient - Stand by the Jams</td>\n",
       "      <td>0.617</td>\n",
       "      <td>0.872</td>\n",
       "      <td>8.0</td>\n",
       "      <td>0.0480</td>\n",
       "      <td>0.0158</td>\n",
       "      <td>0.112000</td>\n",
       "      <td>0.4080</td>\n",
       "      <td>0.504</td>\n",
       "      <td>111.458</td>\n",
       "    </tr>\n",
       "    <tr>\n",
       "      <th>1</th>\n",
       "      <td>I Know You Want Me (Calle Ocho)</td>\n",
       "      <td>0.825</td>\n",
       "      <td>0.743</td>\n",
       "      <td>2.0</td>\n",
       "      <td>0.1490</td>\n",
       "      <td>0.0142</td>\n",
       "      <td>0.000021</td>\n",
       "      <td>0.2370</td>\n",
       "      <td>0.800</td>\n",
       "      <td>127.045</td>\n",
       "    </tr>\n",
       "    <tr>\n",
       "      <th>2</th>\n",
       "      <td>From the Bottom of My Broken Heart</td>\n",
       "      <td>0.677</td>\n",
       "      <td>0.665</td>\n",
       "      <td>7.0</td>\n",
       "      <td>0.0305</td>\n",
       "      <td>0.5600</td>\n",
       "      <td>0.000001</td>\n",
       "      <td>0.3380</td>\n",
       "      <td>0.706</td>\n",
       "      <td>74.981</td>\n",
       "    </tr>\n",
       "    <tr>\n",
       "      <th>3</th>\n",
       "      <td>Apeman - 2014 Remastered Version</td>\n",
       "      <td>0.683</td>\n",
       "      <td>0.728</td>\n",
       "      <td>9.0</td>\n",
       "      <td>0.2590</td>\n",
       "      <td>0.5680</td>\n",
       "      <td>0.000051</td>\n",
       "      <td>0.0384</td>\n",
       "      <td>0.833</td>\n",
       "      <td>75.311</td>\n",
       "    </tr>\n",
       "    <tr>\n",
       "      <th>4</th>\n",
       "      <td>You Can't Always Get What You Want</td>\n",
       "      <td>0.319</td>\n",
       "      <td>0.627</td>\n",
       "      <td>0.0</td>\n",
       "      <td>0.0687</td>\n",
       "      <td>0.6750</td>\n",
       "      <td>0.000073</td>\n",
       "      <td>0.2890</td>\n",
       "      <td>0.497</td>\n",
       "      <td>85.818</td>\n",
       "    </tr>\n",
       "  </tbody>\n",
       "</table>\n",
       "</div>"
      ],
      "text/plain": [
       "                                      song  danceability  energy  key  \\\n",
       "0  Justified & Ancient - Stand by the Jams         0.617   0.872  8.0   \n",
       "1          I Know You Want Me (Calle Ocho)         0.825   0.743  2.0   \n",
       "2       From the Bottom of My Broken Heart         0.677   0.665  7.0   \n",
       "3         Apeman - 2014 Remastered Version         0.683   0.728  9.0   \n",
       "4       You Can't Always Get What You Want         0.319   0.627  0.0   \n",
       "\n",
       "   speechiness  acousticness  instrumentalness  liveness  valence    tempo  \n",
       "0       0.0480        0.0158          0.112000    0.4080    0.504  111.458  \n",
       "1       0.1490        0.0142          0.000021    0.2370    0.800  127.045  \n",
       "2       0.0305        0.5600          0.000001    0.3380    0.706   74.981  \n",
       "3       0.2590        0.5680          0.000051    0.0384    0.833   75.311  \n",
       "4       0.0687        0.6750          0.000073    0.2890    0.497   85.818  "
      ]
     },
     "execution_count": 9,
     "metadata": {},
     "output_type": "execute_result"
    }
   ],
   "source": [
    "df_data.head()"
   ]
  },
  {
   "cell_type": "code",
   "execution_count": 10,
   "metadata": {},
   "outputs": [],
   "source": [
    "# drop nulls\n",
    "df_data = df_data.dropna()\n",
    "# reset index\n",
    "df_data = df_data.reset_index(drop=True)\n"
   ]
  },
  {
   "cell_type": "code",
   "execution_count": 11,
   "metadata": {},
   "outputs": [],
   "source": [
    "# # Convert 'explicit' column from boolean to binary\n",
    "# df_data['explicit'] = df_data['explicit'].astype(int)\n",
    "# # verify update\n",
    "# df_data.head()"
   ]
  },
  {
   "cell_type": "code",
   "execution_count": 12,
   "metadata": {},
   "outputs": [],
   "source": [
    "# add a numerical 'song_id' column for analysis\n",
    "df_data = df_data.reset_index(names='song_id') \n",
    "df_data['song_id'] = df_data.index.to_series()\n"
   ]
  },
  {
   "cell_type": "code",
   "execution_count": 13,
   "metadata": {},
   "outputs": [
    {
     "data": {
      "text/html": [
       "<div>\n",
       "<style scoped>\n",
       "    .dataframe tbody tr th:only-of-type {\n",
       "        vertical-align: middle;\n",
       "    }\n",
       "\n",
       "    .dataframe tbody tr th {\n",
       "        vertical-align: top;\n",
       "    }\n",
       "\n",
       "    .dataframe thead th {\n",
       "        text-align: right;\n",
       "    }\n",
       "</style>\n",
       "<table border=\"1\" class=\"dataframe\">\n",
       "  <thead>\n",
       "    <tr style=\"text-align: right;\">\n",
       "      <th></th>\n",
       "      <th>song_id</th>\n",
       "      <th>song</th>\n",
       "      <th>danceability</th>\n",
       "      <th>energy</th>\n",
       "      <th>key</th>\n",
       "      <th>speechiness</th>\n",
       "      <th>acousticness</th>\n",
       "      <th>instrumentalness</th>\n",
       "      <th>liveness</th>\n",
       "      <th>valence</th>\n",
       "      <th>tempo</th>\n",
       "    </tr>\n",
       "  </thead>\n",
       "  <tbody>\n",
       "    <tr>\n",
       "      <th>0</th>\n",
       "      <td>0</td>\n",
       "      <td>Justified &amp; Ancient - Stand by the Jams</td>\n",
       "      <td>0.617</td>\n",
       "      <td>0.872</td>\n",
       "      <td>8.0</td>\n",
       "      <td>0.0480</td>\n",
       "      <td>0.0158</td>\n",
       "      <td>0.112000</td>\n",
       "      <td>0.4080</td>\n",
       "      <td>0.504</td>\n",
       "      <td>111.458</td>\n",
       "    </tr>\n",
       "    <tr>\n",
       "      <th>1</th>\n",
       "      <td>1</td>\n",
       "      <td>I Know You Want Me (Calle Ocho)</td>\n",
       "      <td>0.825</td>\n",
       "      <td>0.743</td>\n",
       "      <td>2.0</td>\n",
       "      <td>0.1490</td>\n",
       "      <td>0.0142</td>\n",
       "      <td>0.000021</td>\n",
       "      <td>0.2370</td>\n",
       "      <td>0.800</td>\n",
       "      <td>127.045</td>\n",
       "    </tr>\n",
       "    <tr>\n",
       "      <th>2</th>\n",
       "      <td>2</td>\n",
       "      <td>From the Bottom of My Broken Heart</td>\n",
       "      <td>0.677</td>\n",
       "      <td>0.665</td>\n",
       "      <td>7.0</td>\n",
       "      <td>0.0305</td>\n",
       "      <td>0.5600</td>\n",
       "      <td>0.000001</td>\n",
       "      <td>0.3380</td>\n",
       "      <td>0.706</td>\n",
       "      <td>74.981</td>\n",
       "    </tr>\n",
       "    <tr>\n",
       "      <th>3</th>\n",
       "      <td>3</td>\n",
       "      <td>Apeman - 2014 Remastered Version</td>\n",
       "      <td>0.683</td>\n",
       "      <td>0.728</td>\n",
       "      <td>9.0</td>\n",
       "      <td>0.2590</td>\n",
       "      <td>0.5680</td>\n",
       "      <td>0.000051</td>\n",
       "      <td>0.0384</td>\n",
       "      <td>0.833</td>\n",
       "      <td>75.311</td>\n",
       "    </tr>\n",
       "    <tr>\n",
       "      <th>4</th>\n",
       "      <td>4</td>\n",
       "      <td>You Can't Always Get What You Want</td>\n",
       "      <td>0.319</td>\n",
       "      <td>0.627</td>\n",
       "      <td>0.0</td>\n",
       "      <td>0.0687</td>\n",
       "      <td>0.6750</td>\n",
       "      <td>0.000073</td>\n",
       "      <td>0.2890</td>\n",
       "      <td>0.497</td>\n",
       "      <td>85.818</td>\n",
       "    </tr>\n",
       "  </tbody>\n",
       "</table>\n",
       "</div>"
      ],
      "text/plain": [
       "   song_id                                     song  danceability  energy  \\\n",
       "0        0  Justified & Ancient - Stand by the Jams         0.617   0.872   \n",
       "1        1          I Know You Want Me (Calle Ocho)         0.825   0.743   \n",
       "2        2       From the Bottom of My Broken Heart         0.677   0.665   \n",
       "3        3         Apeman - 2014 Remastered Version         0.683   0.728   \n",
       "4        4       You Can't Always Get What You Want         0.319   0.627   \n",
       "\n",
       "   key  speechiness  acousticness  instrumentalness  liveness  valence  \\\n",
       "0  8.0       0.0480        0.0158          0.112000    0.4080    0.504   \n",
       "1  2.0       0.1490        0.0142          0.000021    0.2370    0.800   \n",
       "2  7.0       0.0305        0.5600          0.000001    0.3380    0.706   \n",
       "3  9.0       0.2590        0.5680          0.000051    0.0384    0.833   \n",
       "4  0.0       0.0687        0.6750          0.000073    0.2890    0.497   \n",
       "\n",
       "     tempo  \n",
       "0  111.458  \n",
       "1  127.045  \n",
       "2   74.981  \n",
       "3   75.311  \n",
       "4   85.818  "
      ]
     },
     "execution_count": 13,
     "metadata": {},
     "output_type": "execute_result"
    }
   ],
   "source": [
    "df_data.head()"
   ]
  },
  {
   "cell_type": "code",
   "execution_count": 14,
   "metadata": {},
   "outputs": [],
   "source": [
    "# call the scaler\n",
    "scaler_minmax = MinMaxScaler()\n",
    "scaler_standardscaler = StandardScaler()"
   ]
  },
  {
   "cell_type": "code",
   "execution_count": 15,
   "metadata": {},
   "outputs": [],
   "source": [
    "# create our features dataframe\n",
    "df_features = df_data[['danceability', 'energy', 'key', 'speechiness',\n",
    "       'acousticness', 'instrumentalness', 'liveness', 'valence', 'tempo']]"
   ]
  },
  {
   "cell_type": "code",
   "execution_count": 16,
   "metadata": {},
   "outputs": [],
   "source": [
    "# create X for analysis\n",
    "X = df_features"
   ]
  },
  {
   "cell_type": "code",
   "execution_count": 17,
   "metadata": {},
   "outputs": [],
   "source": [
    "# fit__transform the features\n",
    "X_scaled_minmaz = scaler_minmax.fit_transform(X)\n",
    "X_scaled_stdsclr = scaler_standardscaler.fit_transform(X)"
   ]
  },
  {
   "cell_type": "markdown",
   "metadata": {},
   "source": [
    "## KNN Testing"
   ]
  },
  {
   "cell_type": "code",
   "execution_count": null,
   "metadata": {},
   "outputs": [],
   "source": []
  },
  {
   "cell_type": "code",
   "execution_count": null,
   "metadata": {},
   "outputs": [],
   "source": []
  },
  {
   "cell_type": "markdown",
   "metadata": {},
   "source": [
    "## K-Means"
   ]
  },
  {
   "cell_type": "code",
   "execution_count": 19,
   "metadata": {},
   "outputs": [
    {
     "data": {
      "text/html": [
       "<div>\n",
       "<style scoped>\n",
       "    .dataframe tbody tr th:only-of-type {\n",
       "        vertical-align: middle;\n",
       "    }\n",
       "\n",
       "    .dataframe tbody tr th {\n",
       "        vertical-align: top;\n",
       "    }\n",
       "\n",
       "    .dataframe thead th {\n",
       "        text-align: right;\n",
       "    }\n",
       "</style>\n",
       "<table border=\"1\" class=\"dataframe\">\n",
       "  <thead>\n",
       "    <tr style=\"text-align: right;\">\n",
       "      <th></th>\n",
       "      <th>k</th>\n",
       "      <th>inertia</th>\n",
       "    </tr>\n",
       "  </thead>\n",
       "  <tbody>\n",
       "    <tr>\n",
       "      <th>0</th>\n",
       "      <td>1</td>\n",
       "      <td>6.829392e+06</td>\n",
       "    </tr>\n",
       "    <tr>\n",
       "      <th>1</th>\n",
       "      <td>2</td>\n",
       "      <td>2.829782e+06</td>\n",
       "    </tr>\n",
       "    <tr>\n",
       "      <th>2</th>\n",
       "      <td>3</td>\n",
       "      <td>1.214001e+06</td>\n",
       "    </tr>\n",
       "    <tr>\n",
       "      <th>3</th>\n",
       "      <td>4</td>\n",
       "      <td>8.309714e+05</td>\n",
       "    </tr>\n",
       "    <tr>\n",
       "      <th>4</th>\n",
       "      <td>5</td>\n",
       "      <td>5.892906e+05</td>\n",
       "    </tr>\n",
       "    <tr>\n",
       "      <th>5</th>\n",
       "      <td>6</td>\n",
       "      <td>4.853729e+05</td>\n",
       "    </tr>\n",
       "    <tr>\n",
       "      <th>6</th>\n",
       "      <td>7</td>\n",
       "      <td>3.869834e+05</td>\n",
       "    </tr>\n",
       "    <tr>\n",
       "      <th>7</th>\n",
       "      <td>8</td>\n",
       "      <td>3.246689e+05</td>\n",
       "    </tr>\n",
       "    <tr>\n",
       "      <th>8</th>\n",
       "      <td>9</td>\n",
       "      <td>2.859373e+05</td>\n",
       "    </tr>\n",
       "    <tr>\n",
       "      <th>9</th>\n",
       "      <td>10</td>\n",
       "      <td>2.668206e+05</td>\n",
       "    </tr>\n",
       "  </tbody>\n",
       "</table>\n",
       "</div>"
      ],
      "text/plain": [
       "    k       inertia\n",
       "0   1  6.829392e+06\n",
       "1   2  2.829782e+06\n",
       "2   3  1.214001e+06\n",
       "3   4  8.309714e+05\n",
       "4   5  5.892906e+05\n",
       "5   6  4.853729e+05\n",
       "6   7  3.869834e+05\n",
       "7   8  3.246689e+05\n",
       "8   9  2.859373e+05\n",
       "9  10  2.668206e+05"
      ]
     },
     "execution_count": 19,
     "metadata": {},
     "output_type": "execute_result"
    }
   ],
   "source": [
    "# Create a a list to store inertia values and the values of k\n",
    "inertia = []\n",
    "k = list(range(1, 11))\n",
    "\n",
    "# Create a for-loop where each value of k is evaluated using the K-means algorithm\n",
    "# Fit the model using the service_ratings DataFrame\n",
    "# Append the value of the computed inertia from the `inertia_` attribute of the KMeans model instance\n",
    "for i in k:\n",
    "    k_model = KMeans(n_clusters=i, n_init='auto', random_state=0)\n",
    "    k_model.fit(df_features)\n",
    "    inertia.append(k_model.inertia_)\n",
    "\n",
    "# Define a DataFrame to hold the values for k and the corresponding inertia\n",
    "elbow_data = {\"k\": k, \"inertia\": inertia}\n",
    "df_elbow = pd.DataFrame(elbow_data)\n",
    "\n",
    "# Review the DataFrame\n",
    "df_elbow"
   ]
  },
  {
   "cell_type": "code",
   "execution_count": 20,
   "metadata": {},
   "outputs": [
    {
     "data": {
      "text/plain": [
       "<Axes: title={'center': 'Elbow Curve'}, xlabel='k'>"
      ]
     },
     "execution_count": 20,
     "metadata": {},
     "output_type": "execute_result"
    },
    {
     "data": {
      "image/png": "[encoded data removed]",
      "text/plain": [
       "<Figure size 640x480 with 1 Axes>"
      ]
     },
     "metadata": {},
     "output_type": "display_data"
    }
   ],
   "source": [
    "# Plot the Elbow curve\n",
    "df_elbow.plot.line(x=\"k\",\n",
    "                   y=\"inertia\",\n",
    "                   title=\"Elbow Curve\",\n",
    "                   xticks=k)"
   ]
  },
  {
   "cell_type": "code",
   "execution_count": 23,
   "metadata": {},
   "outputs": [],
   "source": [
    "# Create a list to store values and the values of k\n",
    "score_kmeans = []\n",
    "score_agglomerative = []\n",
    "score_birch = []\n",
    "\n",
    "# Create a list to set the range of k values to test\n",
    "k = list(range(2, 11))"
   ]
  },
  {
   "cell_type": "code",
   "execution_count": 25,
   "metadata": {},
   "outputs": [],
   "source": [
    "from sklearn import metrics\n",
    "# For each model, we iterate through the different cluster count (`i`). \n",
    "# Then, calculate the variance ratio for each algorithm, given that specified cluster count.\n",
    "\n",
    "for i in k:\n",
    "    # Kmeans variance and score\n",
    "    k_model = KMeans(n_clusters=i, n_init='auto',random_state=0)\n",
    "    k_model.fit(df_features)\n",
    "    labels = k_model.labels_\n",
    "    score = metrics.calinski_harabasz_score(df_features, labels)    \n",
    "    score_kmeans.append(score)\n",
    "    \n",
    "    # AgglomerativeClustering variance and score\n",
    "    agglo_model = AgglomerativeClustering(n_clusters=i)\n",
    "    agglo_predictions = agglo_model.fit_predict(df_features)\n",
    "    labels = agglo_model.labels_\n",
    "    score = metrics.calinski_harabasz_score(df_features, labels)    \n",
    "    score_agglomerative.append(score)    \n",
    "    \n",
    "    # Birch variance and score\n",
    "    birch_model = Birch(n_clusters=i)\n",
    "    birch_model.fit(df_features)\n",
    "    labels = birch_model.labels_\n",
    "    score = metrics.calinski_harabasz_score(df_features, labels)    \n",
    "    score_birch.append(score)"
   ]
  },
  {
   "cell_type": "code",
   "execution_count": 26,
   "metadata": {},
   "outputs": [
    {
     "data": {
      "text/plain": [
       "[13722.735657106057,\n",
       " 13722.735657106057,\n",
       " 22452.35515946345,\n",
       " 23356.89213611639,\n",
       " 25694.782786655203,\n",
       " 25369.75723553383,\n",
       " 26925.02035684971,\n",
       " 27771.531173579773,\n",
       " 27752.977232741985,\n",
       " 26511.50969038444]"
      ]
     },
     "metadata": {},
     "output_type": "display_data"
    },
    {
     "data": {
      "text/plain": [
       "[9374.25311737498,\n",
       " 9374.25311737498,\n",
       " 18842.756419323185,\n",
       " 22828.02689311632,\n",
       " 22095.83544954248,\n",
       " 23398.501677760767,\n",
       " 25271.062412603245,\n",
       " 25421.456189582157,\n",
       " 25209.30342508015,\n",
       " 25045.94434974505]"
      ]
     },
     "metadata": {},
     "output_type": "display_data"
    },
    {
     "data": {
      "text/plain": [
       "[13357.483862843483,\n",
       " 15675.742635093196,\n",
       " 18283.280352412112,\n",
       " 23157.891335455166,\n",
       " 22907.84941202969,\n",
       " 21666.866002245435,\n",
       " 22205.526573990395,\n",
       " 24331.29966369695,\n",
       " 22625.754801357096]"
      ]
     },
     "metadata": {},
     "output_type": "display_data"
    }
   ],
   "source": [
    "# Display the scores. \n",
    "display(score_kmeans)\n",
    "display(score_agglomerative)\n",
    "display(score_birch)"
   ]
  },
  {
   "cell_type": "code",
   "execution_count": null,
   "metadata": {},
   "outputs": [],
   "source": []
  },
  {
   "cell_type": "code",
   "execution_count": null,
   "metadata": {},
   "outputs": [],
   "source": []
  },
  {
   "cell_type": "code",
   "execution_count": null,
   "metadata": {},
   "outputs": [],
   "source": []
  },
  {
   "cell_type": "code",
   "execution_count": null,
   "metadata": {},
   "outputs": [],
   "source": []
  },
  {
   "cell_type": "code",
   "execution_count": null,
   "metadata": {},
   "outputs": [],
   "source": []
  },
  {
   "cell_type": "code",
   "execution_count": null,
   "metadata": {},
   "outputs": [],
   "source": []
  },
  {
   "cell_type": "code",
   "execution_count": null,
   "metadata": {},
   "outputs": [],
   "source": [
    "# create and initialize the k--means instance\n",
    "k_model = KMeans(n_clusters=3, n_init='auto', random_state=1)\n",
    "# review model\n",
    "k_model"
   ]
  },
  {
   "cell_type": "code",
   "execution_count": null,
   "metadata": {},
   "outputs": [],
   "source": [
    "# fit the model\n",
    "k_model.fit(df_features)"
   ]
  },
  {
   "cell_type": "code",
   "execution_count": null,
   "metadata": {},
   "outputs": [],
   "source": [
    "k_prediction = k_model.predict(df_features)"
   ]
  },
  {
   "cell_type": "code",
   "execution_count": null,
   "metadata": {},
   "outputs": [],
   "source": [
    "k_prediction"
   ]
  },
  {
   "cell_type": "code",
   "execution_count": null,
   "metadata": {},
   "outputs": [],
   "source": [
    "import matplotlib"
   ]
  },
  {
   "cell_type": "code",
   "execution_count": null,
   "metadata": {},
   "outputs": [],
   "source": [
    "k_prediction = pd.DataFrame(k_prediction)\n",
    "k_prediction.plot.scatter(x='this thing', # create pca1 and pca2 for analysis???\n",
    "                          y='other thing',\n",
    "                          c='centroids',\n",
    "                          colormap='winter')"
   ]
  },
  {
   "cell_type": "code",
   "execution_count": null,
   "metadata": {},
   "outputs": [],
   "source": []
  },
  {
   "cell_type": "code",
   "execution_count": null,
   "metadata": {},
   "outputs": [],
   "source": []
  },
  {
   "cell_type": "code",
   "execution_count": null,
   "metadata": {},
   "outputs": [],
   "source": []
  },
  {
   "cell_type": "code",
   "execution_count": null,
   "metadata": {},
   "outputs": [],
   "source": []
  },
  {
   "cell_type": "code",
   "execution_count": null,
   "metadata": {},
   "outputs": [],
   "source": []
  },
  {
   "cell_type": "code",
   "execution_count": null,
   "metadata": {},
   "outputs": [],
   "source": []
  },
  {
   "cell_type": "code",
   "execution_count": null,
   "metadata": {},
   "outputs": [],
   "source": [
    "# Split the data into training and testing sets\n",
    "X_train, X_test, y_train, y_test = train_test_split(X_scaled, y, test_size=0.2, random_state=42)"
   ]
  },
  {
   "cell_type": "code",
   "execution_count": null,
   "metadata": {},
   "outputs": [],
   "source": [
    "# Example target labels (binary classification)\n",
    "# Replace this with your actual target column\n",
    "y = df_data['song']"
   ]
  },
  {
   "cell_type": "code",
   "execution_count": null,
   "metadata": {},
   "outputs": [],
   "source": [
    "# Normalize/Scale features\n",
    "scaler = StandardScaler()\n",
    "X_scaled = scaler.fit_transform(X)"
   ]
  },
  {
   "cell_type": "code",
   "execution_count": null,
   "metadata": {},
   "outputs": [],
   "source": []
  },
  {
   "cell_type": "code",
   "execution_count": null,
   "metadata": {},
   "outputs": [],
   "source": []
  },
  {
   "cell_type": "code",
   "execution_count": null,
   "metadata": {},
   "outputs": [],
   "source": []
  },
  {
   "cell_type": "markdown",
   "metadata": {},
   "source": [
    "Gaussian Model"
   ]
  },
  {
   "cell_type": "code",
   "execution_count": null,
   "metadata": {},
   "outputs": [],
   "source": []
  },
  {
   "cell_type": "code",
   "execution_count": null,
   "metadata": {},
   "outputs": [],
   "source": []
  },
  {
   "cell_type": "markdown",
   "metadata": {},
   "source": [
    "### what other models to test?\n",
    "- gaussian?\n",
    "- DBSCAN?\n",
    "- agglomarative clustering?\n"
   ]
  },
  {
   "cell_type": "markdown",
   "metadata": {},
   "source": []
  }
 ],
 "metadata": {
  "kernelspec": {
   "display_name": "dev",
   "language": "python",
   "name": "python3"
  },
  "language_info": {
   "codemirror_mode": {
    "name": "ipython",
    "version": 3
   },
   "file_extension": ".py",
   "mimetype": "text/x-python",
   "name": "python",
   "nbconvert_exporter": "python",
   "pygments_lexer": "ipython3",
   "version": "3.10.15"
  }
 },
 "nbformat": 4,
 "nbformat_minor": 2
}
