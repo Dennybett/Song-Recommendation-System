{
 "cells": [
  {
   "cell_type": "code",
   "execution_count": 1,
   "metadata": {},
   "outputs": [],
   "source": [
    "# Import Dependencies\n",
    "import os\n",
    "import numpy as np\n",
    "import pandas as pd\n",
    "import utils as utils\n",
    "import matplotlib.pyplot as plt\n",
    "\n",
    "from sklearn.cluster import KMeans\n",
    "\n",
    "from sklearn.preprocessing import StandardScaler\n",
    "from sklearn.preprocessing import OneHotEncoder\n",
    "from sklearn.preprocessing import MultiLabelBinarizer\n",
    "from sklearn.preprocessing import MinMaxScaler\n",
    "from sklearn.neighbors import NearestNeighbors\n",
    "from sklearn.pipeline import Pipeline\n",
    "from sklearn.manifold import TSNE\n",
    "from sklearn.decomposition import PCA\n",
    "from sklearn.metrics import euclidean_distances\n",
    "from scipy.spatial.distance import cdist\n",
    "\n",
    "import warnings\n",
    "warnings.filterwarnings(\"ignore\")"
   ]
  },
  {
   "cell_type": "markdown",
   "metadata": {},
   "source": [
    "### Preprocessing"
   ]
  },
  {
   "cell_type": "code",
   "execution_count": 2,
   "metadata": {},
   "outputs": [],
   "source": [
    "# Import and read the data\n",
    "df_raw = pd.read_csv(\"data/top_10000_1960-now.csv\")"
   ]
  },
  {
   "cell_type": "code",
   "execution_count": 3,
   "metadata": {},
   "outputs": [
    {
     "data": {
      "text/plain": [
       "Index(['Track URI', 'Track Name', 'Artist URI(s)', 'Artist Name(s)',\n",
       "       'Album URI', 'Album Name', 'Album Artist URI(s)',\n",
       "       'Album Artist Name(s)', 'Album Release Date', 'Album Image URL',\n",
       "       'Disc Number', 'Track Number', 'Track Duration (ms)',\n",
       "       'Track Preview URL', 'Explicit', 'Popularity', 'ISRC', 'Added By',\n",
       "       'Added At', 'Artist Genres', 'Danceability', 'Energy', 'Key',\n",
       "       'Loudness', 'Mode', 'Speechiness', 'Acousticness', 'Instrumentalness',\n",
       "       'Liveness', 'Valence', 'Tempo', 'Time Signature', 'Album Genres',\n",
       "       'Label', 'Copyrights'],\n",
       "      dtype='object')"
      ]
     },
     "execution_count": 3,
     "metadata": {},
     "output_type": "execute_result"
    }
   ],
   "source": [
    "# list columns for features and target\n",
    "df_raw.columns"
   ]
  },
  {
   "cell_type": "code",
   "execution_count": 4,
   "metadata": {},
   "outputs": [],
   "source": [
    "# Drop unnecessary columns\n",
    "# Listing all columns for review\n",
    "# all columns listed, columns to keep are commented out.\n",
    "df_data = df_raw.drop([#'Track URI',\n",
    "                       'Track Name',\n",
    "                       'Artist URI(s)',\n",
    "                       'Artist Name(s)',\n",
    "                       'Album URI',\n",
    "                       'Album Name',\n",
    "                       'Album Artist URI(s)',\n",
    "                       'Album Artist Name(s)',\n",
    "                       'Album Release Date',\n",
    "                       'Album Image URL',\n",
    "                       'Disc Number',\n",
    "                       'Track Number',\n",
    "                       'Track Duration (ms)',\n",
    "                       'Track Preview URL',\n",
    "                       #'Explicit',\n",
    "                       'Popularity',\n",
    "                       'ISRC',\n",
    "                       'Added By',\n",
    "                       'Added At',\n",
    "                       'Artist Genres',\n",
    "                       #'Danceability',\n",
    "                       #'Energy',\n",
    "                       #'Key',\n",
    "                       'Loudness',\n",
    "                       'Mode',\n",
    "                       #'Speechiness',\n",
    "                       #'Acousticness',\n",
    "                       #'Instrumentalness',\n",
    "                       #'Liveness',\n",
    "                       #'Valence',\n",
    "                       #'Tempo',\n",
    "                       'Time Signature',\n",
    "                       'Album Genres',\n",
    "                       'Label',\n",
    "                       'Copyrights'],\n",
    "                       axis=1)"
   ]
  },
  {
   "cell_type": "code",
   "execution_count": 5,
   "metadata": {},
   "outputs": [],
   "source": [
    "# Renaming columns to convention\n",
    "df_data = df_data.rename(columns={\n",
    "                   'Track URI': 'track_uri',\n",
    "                   'Album Image URL': 'image',\n",
    "                   'Explicit': 'explicit',\n",
    "                   'Popularity': 'popularity',\n",
    "                   'Danceability': 'danceability',\n",
    "                   'Energy': 'energy',\n",
    "                   'Key': 'key',\n",
    "                   'Speechiness': 'speechiness',\n",
    "                   'Acousticness': 'acousticness',\n",
    "                   'Instrumentalness': 'instrumentalness',\n",
    "                   'Liveness': 'liveness',\n",
    "                   'Valence': 'valence',\n",
    "                   'Tempo': 'tempo'\n",
    "       })"
   ]
  },
  {
   "cell_type": "code",
   "execution_count": 6,
   "metadata": {},
   "outputs": [
    {
     "data": {
      "text/plain": [
       "track_uri            object\n",
       "explicit               bool\n",
       "danceability        float64\n",
       "energy              float64\n",
       "key                 float64\n",
       "speechiness         float64\n",
       "acousticness        float64\n",
       "instrumentalness    float64\n",
       "liveness            float64\n",
       "valence             float64\n",
       "tempo               float64\n",
       "dtype: object"
      ]
     },
     "execution_count": 6,
     "metadata": {},
     "output_type": "execute_result"
    }
   ],
   "source": [
    "# Verifying name update and\n",
    "# Reviewing datatypes for analysis\n",
    "df_data.dtypes"
   ]
  },
  {
   "cell_type": "code",
   "execution_count": 7,
   "metadata": {},
   "outputs": [],
   "source": [
    "# drop nulls\n",
    "df_data = df_data.dropna()\n",
    "# reset index\n",
    "df_data = df_data.reset_index(drop=True)\n"
   ]
  },
  {
   "cell_type": "code",
   "execution_count": 8,
   "metadata": {},
   "outputs": [
    {
     "data": {
      "text/html": [
       "<div>\n",
       "<style scoped>\n",
       "    .dataframe tbody tr th:only-of-type {\n",
       "        vertical-align: middle;\n",
       "    }\n",
       "\n",
       "    .dataframe tbody tr th {\n",
       "        vertical-align: top;\n",
       "    }\n",
       "\n",
       "    .dataframe thead th {\n",
       "        text-align: right;\n",
       "    }\n",
       "</style>\n",
       "<table border=\"1\" class=\"dataframe\">\n",
       "  <thead>\n",
       "    <tr style=\"text-align: right;\">\n",
       "      <th></th>\n",
       "      <th>track_uri</th>\n",
       "      <th>explicit</th>\n",
       "      <th>danceability</th>\n",
       "      <th>energy</th>\n",
       "      <th>key</th>\n",
       "      <th>speechiness</th>\n",
       "      <th>acousticness</th>\n",
       "      <th>instrumentalness</th>\n",
       "      <th>liveness</th>\n",
       "      <th>valence</th>\n",
       "      <th>tempo</th>\n",
       "    </tr>\n",
       "  </thead>\n",
       "  <tbody>\n",
       "    <tr>\n",
       "      <th>0</th>\n",
       "      <td>spotify:track:1XAZlnVtthcDZt2NI1Dtxo</td>\n",
       "      <td>0</td>\n",
       "      <td>0.617</td>\n",
       "      <td>0.872</td>\n",
       "      <td>8.0</td>\n",
       "      <td>0.0480</td>\n",
       "      <td>0.0158</td>\n",
       "      <td>0.112000</td>\n",
       "      <td>0.4080</td>\n",
       "      <td>0.504</td>\n",
       "      <td>111.458</td>\n",
       "    </tr>\n",
       "    <tr>\n",
       "      <th>1</th>\n",
       "      <td>spotify:track:6a8GbQIlV8HBUW3c6Uk9PH</td>\n",
       "      <td>0</td>\n",
       "      <td>0.825</td>\n",
       "      <td>0.743</td>\n",
       "      <td>2.0</td>\n",
       "      <td>0.1490</td>\n",
       "      <td>0.0142</td>\n",
       "      <td>0.000021</td>\n",
       "      <td>0.2370</td>\n",
       "      <td>0.800</td>\n",
       "      <td>127.045</td>\n",
       "    </tr>\n",
       "    <tr>\n",
       "      <th>2</th>\n",
       "      <td>spotify:track:70XtWbcVZcpaOddJftMcVi</td>\n",
       "      <td>0</td>\n",
       "      <td>0.677</td>\n",
       "      <td>0.665</td>\n",
       "      <td>7.0</td>\n",
       "      <td>0.0305</td>\n",
       "      <td>0.5600</td>\n",
       "      <td>0.000001</td>\n",
       "      <td>0.3380</td>\n",
       "      <td>0.706</td>\n",
       "      <td>74.981</td>\n",
       "    </tr>\n",
       "    <tr>\n",
       "      <th>3</th>\n",
       "      <td>spotify:track:1NXUWyPJk5kO6DQJ5t7bDu</td>\n",
       "      <td>0</td>\n",
       "      <td>0.683</td>\n",
       "      <td>0.728</td>\n",
       "      <td>9.0</td>\n",
       "      <td>0.2590</td>\n",
       "      <td>0.5680</td>\n",
       "      <td>0.000051</td>\n",
       "      <td>0.0384</td>\n",
       "      <td>0.833</td>\n",
       "      <td>75.311</td>\n",
       "    </tr>\n",
       "    <tr>\n",
       "      <th>4</th>\n",
       "      <td>spotify:track:72WZtWs6V7uu3aMgMmEkYe</td>\n",
       "      <td>0</td>\n",
       "      <td>0.319</td>\n",
       "      <td>0.627</td>\n",
       "      <td>0.0</td>\n",
       "      <td>0.0687</td>\n",
       "      <td>0.6750</td>\n",
       "      <td>0.000073</td>\n",
       "      <td>0.2890</td>\n",
       "      <td>0.497</td>\n",
       "      <td>85.818</td>\n",
       "    </tr>\n",
       "  </tbody>\n",
       "</table>\n",
       "</div>"
      ],
      "text/plain": [
       "                              track_uri  explicit  danceability  energy  key  \\\n",
       "0  spotify:track:1XAZlnVtthcDZt2NI1Dtxo         0         0.617   0.872  8.0   \n",
       "1  spotify:track:6a8GbQIlV8HBUW3c6Uk9PH         0         0.825   0.743  2.0   \n",
       "2  spotify:track:70XtWbcVZcpaOddJftMcVi         0         0.677   0.665  7.0   \n",
       "3  spotify:track:1NXUWyPJk5kO6DQJ5t7bDu         0         0.683   0.728  9.0   \n",
       "4  spotify:track:72WZtWs6V7uu3aMgMmEkYe         0         0.319   0.627  0.0   \n",
       "\n",
       "   speechiness  acousticness  instrumentalness  liveness  valence    tempo  \n",
       "0       0.0480        0.0158          0.112000    0.4080    0.504  111.458  \n",
       "1       0.1490        0.0142          0.000021    0.2370    0.800  127.045  \n",
       "2       0.0305        0.5600          0.000001    0.3380    0.706   74.981  \n",
       "3       0.2590        0.5680          0.000051    0.0384    0.833   75.311  \n",
       "4       0.0687        0.6750          0.000073    0.2890    0.497   85.818  "
      ]
     },
     "execution_count": 8,
     "metadata": {},
     "output_type": "execute_result"
    }
   ],
   "source": [
    "# Convert 'explicit' column from boolean to binary\n",
    "df_data['explicit'] = df_data['explicit'].astype(int)\n",
    "# verify update\n",
    "df_data.head()"
   ]
  },
  {
   "cell_type": "markdown",
   "metadata": {},
   "source": [
    "KNN Testing"
   ]
  },
  {
   "cell_type": "code",
   "execution_count": 12,
   "metadata": {},
   "outputs": [],
   "source": [
    "# Ensure all column names are strings\n",
    "df_data.columns = df_data.columns.astype(str)"
   ]
  },
  {
   "cell_type": "code",
   "execution_count": null,
   "metadata": {},
   "outputs": [],
   "source": [
    "# Extract relevant features\n",
    "X = df_data.drop(columns='track_uri')"
   ]
  },
  {
   "cell_type": "code",
   "execution_count": null,
   "metadata": {},
   "outputs": [],
   "source": [
    "# Example target labels (binary classification)\n",
    "# Replace this with your actual target column\n",
    "y = df_data['track_uri']"
   ]
  },
  {
   "cell_type": "code",
   "execution_count": 14,
   "metadata": {},
   "outputs": [],
   "source": [
    "# Normalize/Scale features\n",
    "scaler = StandardScaler()\n",
    "X_scaled = scaler.fit_transform(X)"
   ]
  },
  {
   "cell_type": "code",
   "execution_count": 15,
   "metadata": {},
   "outputs": [
    {
     "ename": "NameError",
     "evalue": "name 'train_test_split' is not defined",
     "output_type": "error",
     "traceback": [
      "\u001b[1;31m---------------------------------------------------------------------------\u001b[0m",
      "\u001b[1;31mNameError\u001b[0m                                 Traceback (most recent call last)",
      "Cell \u001b[1;32mIn[15], line 2\u001b[0m\n\u001b[0;32m      1\u001b[0m \u001b[38;5;66;03m# Split the data into training and testing sets\u001b[39;00m\n\u001b[1;32m----> 2\u001b[0m X_train, X_test, y_train, y_test \u001b[38;5;241m=\u001b[39m \u001b[43mtrain_test_split\u001b[49m(X_scaled, y, test_size\u001b[38;5;241m=\u001b[39m\u001b[38;5;241m0.2\u001b[39m, random_state\u001b[38;5;241m=\u001b[39m\u001b[38;5;241m42\u001b[39m)\n",
      "\u001b[1;31mNameError\u001b[0m: name 'train_test_split' is not defined"
     ]
    }
   ],
   "source": [
    "# Split the data into training and testing sets\n",
    "X_train, X_test, y_train, y_test = train_test_split(X_scaled, y, test_size=0.2, random_state=42)"
   ]
  },
  {
   "cell_type": "code",
   "execution_count": null,
   "metadata": {},
   "outputs": [],
   "source": []
  },
  {
   "cell_type": "code",
   "execution_count": null,
   "metadata": {},
   "outputs": [],
   "source": []
  },
  {
   "cell_type": "code",
   "execution_count": null,
   "metadata": {},
   "outputs": [],
   "source": []
  },
  {
   "cell_type": "markdown",
   "metadata": {},
   "source": [
    "### what other models to test?\n",
    "- gaussian?\n",
    "- DBSCAN?\n",
    "- agglomarative clustering?\n"
   ]
  },
  {
   "cell_type": "markdown",
   "metadata": {},
   "source": []
  }
 ],
 "metadata": {
  "kernelspec": {
   "display_name": "dev",
   "language": "python",
   "name": "python3"
  },
  "language_info": {
   "codemirror_mode": {
    "name": "ipython",
    "version": 3
   },
   "file_extension": ".py",
   "mimetype": "text/x-python",
   "name": "python",
   "nbconvert_exporter": "python",
   "pygments_lexer": "ipython3",
   "version": "3.10.15"
  }
 },
 "nbformat": 4,
 "nbformat_minor": 2
}
