{
 "cells": [
  {
   "cell_type": "code",
   "execution_count": 1,
   "metadata": {},
   "outputs": [],
   "source": [
    "# Import Dependencies\n",
    "import os\n",
    "import numpy as np\n",
    "import pandas as pd\n",
    "import utils as utils\n",
    "import seaborn as sns\n",
    "import plotly.express as px \n",
    "import matplotlib.pyplot as plt\n",
    "\n",
    "from sklearn.cluster import KMeans\n",
    "from sklearn.preprocessing import StandardScaler\n",
    "from sklearn.pipeline import Pipeline\n",
    "from sklearn.manifold import TSNE\n",
    "from sklearn.decomposition import PCA\n",
    "from sklearn.metrics import euclidean_distances\n",
    "from scipy.spatial.distance import cdist\n",
    "from sklearn.preprocessing import OneHotEncoder\n",
    "from sklearn.preprocessing import MultiLabelBinarizer\n",
    "\n",
    "import warnings\n",
    "warnings.filterwarnings(\"ignore\")"
   ]
  },
  {
   "cell_type": "code",
   "execution_count": 2,
   "metadata": {},
   "outputs": [
    {
     "data": {
      "text/html": [
       "<div>\n",
       "<style scoped>\n",
       "    .dataframe tbody tr th:only-of-type {\n",
       "        vertical-align: middle;\n",
       "    }\n",
       "\n",
       "    .dataframe tbody tr th {\n",
       "        vertical-align: top;\n",
       "    }\n",
       "\n",
       "    .dataframe thead th {\n",
       "        text-align: right;\n",
       "    }\n",
       "</style>\n",
       "<table border=\"1\" class=\"dataframe\">\n",
       "  <thead>\n",
       "    <tr style=\"text-align: right;\">\n",
       "      <th></th>\n",
       "      <th>Track URI</th>\n",
       "      <th>Track Name</th>\n",
       "      <th>Artist URI(s)</th>\n",
       "      <th>Artist Name(s)</th>\n",
       "      <th>Album URI</th>\n",
       "      <th>Album Name</th>\n",
       "      <th>Album Artist URI(s)</th>\n",
       "      <th>Album Artist Name(s)</th>\n",
       "      <th>Album Release Date</th>\n",
       "      <th>Album Image URL</th>\n",
       "      <th>...</th>\n",
       "      <th>Speechiness</th>\n",
       "      <th>Acousticness</th>\n",
       "      <th>Instrumentalness</th>\n",
       "      <th>Liveness</th>\n",
       "      <th>Valence</th>\n",
       "      <th>Tempo</th>\n",
       "      <th>Time Signature</th>\n",
       "      <th>Album Genres</th>\n",
       "      <th>Label</th>\n",
       "      <th>Copyrights</th>\n",
       "    </tr>\n",
       "  </thead>\n",
       "  <tbody>\n",
       "    <tr>\n",
       "      <th>0</th>\n",
       "      <td>spotify:track:1XAZlnVtthcDZt2NI1Dtxo</td>\n",
       "      <td>Justified &amp; Ancient - Stand by the Jams</td>\n",
       "      <td>spotify:artist:6dYrdRlNZSKaVxYg5IrvCH</td>\n",
       "      <td>The KLF</td>\n",
       "      <td>spotify:album:4MC0ZjNtVP1nDD5lsLxFjc</td>\n",
       "      <td>Songs Collection</td>\n",
       "      <td>spotify:artist:6dYrdRlNZSKaVxYg5IrvCH</td>\n",
       "      <td>The KLF</td>\n",
       "      <td>1992-08-03</td>\n",
       "      <td>https://i.scdn.co/image/ab67616d0000b27355346b...</td>\n",
       "      <td>...</td>\n",
       "      <td>0.0480</td>\n",
       "      <td>0.0158</td>\n",
       "      <td>0.112000</td>\n",
       "      <td>0.4080</td>\n",
       "      <td>0.504</td>\n",
       "      <td>111.458</td>\n",
       "      <td>4.0</td>\n",
       "      <td>NaN</td>\n",
       "      <td>Jams Communications</td>\n",
       "      <td>C 1992 Copyright Control, P 1992 Jams Communic...</td>\n",
       "    </tr>\n",
       "    <tr>\n",
       "      <th>1</th>\n",
       "      <td>spotify:track:6a8GbQIlV8HBUW3c6Uk9PH</td>\n",
       "      <td>I Know You Want Me (Calle Ocho)</td>\n",
       "      <td>spotify:artist:0TnOYISbd1XYRBk9myaseg</td>\n",
       "      <td>Pitbull</td>\n",
       "      <td>spotify:album:5xLAcbvbSAlRtPXnKkggXA</td>\n",
       "      <td>Pitbull Starring In Rebelution</td>\n",
       "      <td>spotify:artist:0TnOYISbd1XYRBk9myaseg</td>\n",
       "      <td>Pitbull</td>\n",
       "      <td>2009-10-23</td>\n",
       "      <td>https://i.scdn.co/image/ab67616d0000b27326d73a...</td>\n",
       "      <td>...</td>\n",
       "      <td>0.1490</td>\n",
       "      <td>0.0142</td>\n",
       "      <td>0.000021</td>\n",
       "      <td>0.2370</td>\n",
       "      <td>0.800</td>\n",
       "      <td>127.045</td>\n",
       "      <td>4.0</td>\n",
       "      <td>NaN</td>\n",
       "      <td>Mr.305/Polo Grounds Music/J Records</td>\n",
       "      <td>P (P) 2009 RCA/JIVE Label Group, a unit of Son...</td>\n",
       "    </tr>\n",
       "    <tr>\n",
       "      <th>2</th>\n",
       "      <td>spotify:track:70XtWbcVZcpaOddJftMcVi</td>\n",
       "      <td>From the Bottom of My Broken Heart</td>\n",
       "      <td>spotify:artist:26dSoYclwsYLMAKD3tpOr4</td>\n",
       "      <td>Britney Spears</td>\n",
       "      <td>spotify:album:3WNxdumkSMGMJRhEgK80qx</td>\n",
       "      <td>...Baby One More Time (Digital Deluxe Version)</td>\n",
       "      <td>spotify:artist:26dSoYclwsYLMAKD3tpOr4</td>\n",
       "      <td>Britney Spears</td>\n",
       "      <td>1999-01-12</td>\n",
       "      <td>https://i.scdn.co/image/ab67616d0000b2738e4986...</td>\n",
       "      <td>...</td>\n",
       "      <td>0.0305</td>\n",
       "      <td>0.5600</td>\n",
       "      <td>0.000001</td>\n",
       "      <td>0.3380</td>\n",
       "      <td>0.706</td>\n",
       "      <td>74.981</td>\n",
       "      <td>4.0</td>\n",
       "      <td>NaN</td>\n",
       "      <td>Jive</td>\n",
       "      <td>P (P) 1999 Zomba Recording LLC</td>\n",
       "    </tr>\n",
       "    <tr>\n",
       "      <th>3</th>\n",
       "      <td>spotify:track:1NXUWyPJk5kO6DQJ5t7bDu</td>\n",
       "      <td>Apeman - 2014 Remastered Version</td>\n",
       "      <td>spotify:artist:1SQRv42e4PjEYfPhS0Tk9E</td>\n",
       "      <td>The Kinks</td>\n",
       "      <td>spotify:album:6lL6HugNEN4Vlc8sj0Zcse</td>\n",
       "      <td>Lola vs. Powerman and the Moneygoround, Pt. On...</td>\n",
       "      <td>spotify:artist:1SQRv42e4PjEYfPhS0Tk9E</td>\n",
       "      <td>The Kinks</td>\n",
       "      <td>2014-10-20</td>\n",
       "      <td>https://i.scdn.co/image/ab67616d0000b2731e7c53...</td>\n",
       "      <td>...</td>\n",
       "      <td>0.2590</td>\n",
       "      <td>0.5680</td>\n",
       "      <td>0.000051</td>\n",
       "      <td>0.0384</td>\n",
       "      <td>0.833</td>\n",
       "      <td>75.311</td>\n",
       "      <td>4.0</td>\n",
       "      <td>NaN</td>\n",
       "      <td>Sanctuary Records</td>\n",
       "      <td>C © 2014 Sanctuary Records Group Ltd., a BMG C...</td>\n",
       "    </tr>\n",
       "    <tr>\n",
       "      <th>4</th>\n",
       "      <td>spotify:track:72WZtWs6V7uu3aMgMmEkYe</td>\n",
       "      <td>You Can't Always Get What You Want</td>\n",
       "      <td>spotify:artist:22bE4uQ6baNwSHPVcDxLCe</td>\n",
       "      <td>The Rolling Stones</td>\n",
       "      <td>spotify:album:0c78nsgqX6VfniSNWIxwoD</td>\n",
       "      <td>Let It Bleed</td>\n",
       "      <td>spotify:artist:22bE4uQ6baNwSHPVcDxLCe</td>\n",
       "      <td>The Rolling Stones</td>\n",
       "      <td>1969-12-05</td>\n",
       "      <td>https://i.scdn.co/image/ab67616d0000b27373d927...</td>\n",
       "      <td>...</td>\n",
       "      <td>0.0687</td>\n",
       "      <td>0.6750</td>\n",
       "      <td>0.000073</td>\n",
       "      <td>0.2890</td>\n",
       "      <td>0.497</td>\n",
       "      <td>85.818</td>\n",
       "      <td>4.0</td>\n",
       "      <td>NaN</td>\n",
       "      <td>Universal Music Group</td>\n",
       "      <td>C © 2002 ABKCO Music &amp; Records Inc., P ℗ 2002 ...</td>\n",
       "    </tr>\n",
       "  </tbody>\n",
       "</table>\n",
       "<p>5 rows × 35 columns</p>\n",
       "</div>"
      ],
      "text/plain": [
       "                              Track URI  \\\n",
       "0  spotify:track:1XAZlnVtthcDZt2NI1Dtxo   \n",
       "1  spotify:track:6a8GbQIlV8HBUW3c6Uk9PH   \n",
       "2  spotify:track:70XtWbcVZcpaOddJftMcVi   \n",
       "3  spotify:track:1NXUWyPJk5kO6DQJ5t7bDu   \n",
       "4  spotify:track:72WZtWs6V7uu3aMgMmEkYe   \n",
       "\n",
       "                                Track Name  \\\n",
       "0  Justified & Ancient - Stand by the Jams   \n",
       "1          I Know You Want Me (Calle Ocho)   \n",
       "2       From the Bottom of My Broken Heart   \n",
       "3         Apeman - 2014 Remastered Version   \n",
       "4       You Can't Always Get What You Want   \n",
       "\n",
       "                           Artist URI(s)      Artist Name(s)  \\\n",
       "0  spotify:artist:6dYrdRlNZSKaVxYg5IrvCH             The KLF   \n",
       "1  spotify:artist:0TnOYISbd1XYRBk9myaseg             Pitbull   \n",
       "2  spotify:artist:26dSoYclwsYLMAKD3tpOr4      Britney Spears   \n",
       "3  spotify:artist:1SQRv42e4PjEYfPhS0Tk9E           The Kinks   \n",
       "4  spotify:artist:22bE4uQ6baNwSHPVcDxLCe  The Rolling Stones   \n",
       "\n",
       "                              Album URI  \\\n",
       "0  spotify:album:4MC0ZjNtVP1nDD5lsLxFjc   \n",
       "1  spotify:album:5xLAcbvbSAlRtPXnKkggXA   \n",
       "2  spotify:album:3WNxdumkSMGMJRhEgK80qx   \n",
       "3  spotify:album:6lL6HugNEN4Vlc8sj0Zcse   \n",
       "4  spotify:album:0c78nsgqX6VfniSNWIxwoD   \n",
       "\n",
       "                                          Album Name  \\\n",
       "0                                   Songs Collection   \n",
       "1                     Pitbull Starring In Rebelution   \n",
       "2     ...Baby One More Time (Digital Deluxe Version)   \n",
       "3  Lola vs. Powerman and the Moneygoround, Pt. On...   \n",
       "4                                       Let It Bleed   \n",
       "\n",
       "                     Album Artist URI(s) Album Artist Name(s)  \\\n",
       "0  spotify:artist:6dYrdRlNZSKaVxYg5IrvCH              The KLF   \n",
       "1  spotify:artist:0TnOYISbd1XYRBk9myaseg              Pitbull   \n",
       "2  spotify:artist:26dSoYclwsYLMAKD3tpOr4       Britney Spears   \n",
       "3  spotify:artist:1SQRv42e4PjEYfPhS0Tk9E            The Kinks   \n",
       "4  spotify:artist:22bE4uQ6baNwSHPVcDxLCe   The Rolling Stones   \n",
       "\n",
       "  Album Release Date                                    Album Image URL  ...  \\\n",
       "0         1992-08-03  https://i.scdn.co/image/ab67616d0000b27355346b...  ...   \n",
       "1         2009-10-23  https://i.scdn.co/image/ab67616d0000b27326d73a...  ...   \n",
       "2         1999-01-12  https://i.scdn.co/image/ab67616d0000b2738e4986...  ...   \n",
       "3         2014-10-20  https://i.scdn.co/image/ab67616d0000b2731e7c53...  ...   \n",
       "4         1969-12-05  https://i.scdn.co/image/ab67616d0000b27373d927...  ...   \n",
       "\n",
       "   Speechiness  Acousticness  Instrumentalness Liveness  Valence    Tempo  \\\n",
       "0       0.0480        0.0158          0.112000   0.4080    0.504  111.458   \n",
       "1       0.1490        0.0142          0.000021   0.2370    0.800  127.045   \n",
       "2       0.0305        0.5600          0.000001   0.3380    0.706   74.981   \n",
       "3       0.2590        0.5680          0.000051   0.0384    0.833   75.311   \n",
       "4       0.0687        0.6750          0.000073   0.2890    0.497   85.818   \n",
       "\n",
       "  Time Signature Album Genres                                Label  \\\n",
       "0            4.0          NaN                  Jams Communications   \n",
       "1            4.0          NaN  Mr.305/Polo Grounds Music/J Records   \n",
       "2            4.0          NaN                                 Jive   \n",
       "3            4.0          NaN                    Sanctuary Records   \n",
       "4            4.0          NaN                Universal Music Group   \n",
       "\n",
       "                                          Copyrights  \n",
       "0  C 1992 Copyright Control, P 1992 Jams Communic...  \n",
       "1  P (P) 2009 RCA/JIVE Label Group, a unit of Son...  \n",
       "2                     P (P) 1999 Zomba Recording LLC  \n",
       "3  C © 2014 Sanctuary Records Group Ltd., a BMG C...  \n",
       "4  C © 2002 ABKCO Music & Records Inc., P ℗ 2002 ...  \n",
       "\n",
       "[5 rows x 35 columns]"
      ]
     },
     "execution_count": 2,
     "metadata": {},
     "output_type": "execute_result"
    }
   ],
   "source": [
    "# Import and read the data\n",
    "df_raw = pd.read_csv(\"data/top_10000_1960-now.csv\")\n",
    "df_raw.head()"
   ]
  },
  {
   "cell_type": "code",
   "execution_count": 3,
   "metadata": {},
   "outputs": [
    {
     "data": {
      "text/plain": [
       "Index(['Track URI', 'Track Name', 'Artist URI(s)', 'Artist Name(s)',\n",
       "       'Album URI', 'Album Name', 'Album Artist URI(s)',\n",
       "       'Album Artist Name(s)', 'Album Release Date', 'Album Image URL',\n",
       "       'Disc Number', 'Track Number', 'Track Duration (ms)',\n",
       "       'Track Preview URL', 'Explicit', 'Popularity', 'ISRC', 'Added By',\n",
       "       'Added At', 'Artist Genres', 'Danceability', 'Energy', 'Key',\n",
       "       'Loudness', 'Mode', 'Speechiness', 'Acousticness', 'Instrumentalness',\n",
       "       'Liveness', 'Valence', 'Tempo', 'Time Signature', 'Album Genres',\n",
       "       'Label', 'Copyrights'],\n",
       "      dtype='object')"
      ]
     },
     "execution_count": 3,
     "metadata": {},
     "output_type": "execute_result"
    }
   ],
   "source": [
    "# list columns for features and target\n",
    "df_raw.columns"
   ]
  },
  {
   "cell_type": "code",
   "execution_count": 4,
   "metadata": {},
   "outputs": [],
   "source": [
    "# Drop unnecessary columns\n",
    "df_data = df_raw.drop([#'Track URI',\n",
    "                       'Track Name',\n",
    "                       'Artist URI(s)',\n",
    "                       'Artist Name(s)',\n",
    "                       'Album URI',\n",
    "                       'Album Name',\n",
    "                       'Album Artist URI(s)',\n",
    "                       'Album Artist Name(s)',\n",
    "                       'Album Release Date',\n",
    "                       'Album Image URL',\n",
    "                       'Disc Number',\n",
    "                       'Track Number',\n",
    "                       'Track Duration (ms)',\n",
    "                       'Track Preview URL',\n",
    "                       #'Explicit',\n",
    "                       'Popularity',\n",
    "                       'ISRC',\n",
    "                       'Added By',\n",
    "                       'Added At',\n",
    "                       #'Artist Genres',\n",
    "                       #'Danceability',\n",
    "                       #'Energy',\n",
    "                       #'Key',\n",
    "                       #'Loudness',\n",
    "                       'Mode',\n",
    "                       #'Speechiness',\n",
    "                       #'Acousticness',\n",
    "                       #'Instrumentalness',\n",
    "                       #'Liveness',\n",
    "                       #'Valence',\n",
    "                       #'Tempo',\n",
    "                       #'Time Signature',\n",
    "                       #'Album Genres',\n",
    "                       'Label',\n",
    "                       'Copyrights'],\n",
    "                       axis=1)"
   ]
  },
  {
   "cell_type": "code",
   "execution_count": 5,
   "metadata": {},
   "outputs": [
    {
     "data": {
      "text/plain": [
       "Index(['Track URI', 'Explicit', 'Artist Genres', 'Danceability', 'Energy',\n",
       "       'Key', 'Loudness', 'Speechiness', 'Acousticness', 'Instrumentalness',\n",
       "       'Liveness', 'Valence', 'Tempo', 'Time Signature', 'Album Genres'],\n",
       "      dtype='object')"
      ]
     },
     "execution_count": 5,
     "metadata": {},
     "output_type": "execute_result"
    }
   ],
   "source": [
    "# Review remaining column names\n",
    "df_data.columns "
   ]
  },
  {
   "cell_type": "code",
   "execution_count": 6,
   "metadata": {},
   "outputs": [],
   "source": [
    "# Columns renamed to follow convention\n",
    "df_data = df_data.rename(columns={\n",
    "                   'Track URI': 'track_uri',\n",
    "                   #'Track Name': 'track_name',\n",
    "                   #'Artist Name(s)': 'artist_name',\n",
    "                   #'Album Name': 'album_name',\n",
    "                   #'Album Release Date': 'release_date',\n",
    "                   'Album Image URL': 'image',\n",
    "                   'Explicit': 'explicit',\n",
    "                   'Popularity': 'popularity',\n",
    "                   'Artist Genres': 'artist_genres',\n",
    "                   'Danceability': 'danceability',\n",
    "                   'Energy': 'energy',\n",
    "                   'Key': 'key',\n",
    "                   'Speechiness': 'speechiness',\n",
    "                   'Acousticness': 'acousticness',\n",
    "                   'Instrumentalness': 'instrumentalness',\n",
    "                   'Liveness': 'liveness',\n",
    "                   'Valence': 'valence',\n",
    "                   'Tempo': 'tempo',\n",
    "                   'Time Signature': 'time_signature',\n",
    "                   'Label': 'label'\n",
    "       })\n"
   ]
  },
  {
   "cell_type": "code",
   "execution_count": 7,
   "metadata": {},
   "outputs": [
    {
     "data": {
      "text/plain": [
       "Index(['track_uri', 'explicit', 'artist_genres', 'danceability', 'energy',\n",
       "       'key', 'Loudness', 'speechiness', 'acousticness', 'instrumentalness',\n",
       "       'liveness', 'valence', 'tempo', 'time_signature', 'Album Genres'],\n",
       "      dtype='object')"
      ]
     },
     "execution_count": 7,
     "metadata": {},
     "output_type": "execute_result"
    }
   ],
   "source": [
    "# Verify Update\n",
    "df_data.columns"
   ]
  },
  {
   "cell_type": "code",
   "execution_count": null,
   "metadata": {},
   "outputs": [],
   "source": [
    "# Dropping null columns\n",
    "df_data = df_data.dropna(how=\"any\")"
   ]
  },
  {
   "cell_type": "code",
   "execution_count": null,
   "metadata": {},
   "outputs": [],
   "source": [
    "# Reset index on dataframe\n",
    "df_data = df_data.reset_index()\n",
    "\n",
    "utils.eda(df_data)"
   ]
  },
  {
   "cell_type": "code",
   "execution_count": null,
   "metadata": {},
   "outputs": [],
   "source": [
    "# utils.plot_correlation_heatmap(df_data)"
   ]
  },
  {
   "cell_type": "code",
   "execution_count": null,
   "metadata": {},
   "outputs": [],
   "source": [
    "# utils.plot_numeric_distributions(df_data)"
   ]
  },
  {
   "cell_type": "code",
   "execution_count": null,
   "metadata": {},
   "outputs": [],
   "source": []
  },
  {
   "cell_type": "markdown",
   "metadata": {},
   "source": [
    "#### Cleaning and encoding the ['Artist Genres'] column"
   ]
  },
  {
   "cell_type": "code",
   "execution_count": null,
   "metadata": {},
   "outputs": [],
   "source": [
    "## Cleaning and encoding the 'artist genres' column\n",
    "df_data.columns"
   ]
  },
  {
   "cell_type": "code",
   "execution_count": null,
   "metadata": {},
   "outputs": [],
   "source": [
    "## Cleaning and encoding the 'artist genres' column\n",
    "df_data['artist_genres'].value_counts()"
   ]
  },
  {
   "cell_type": "code",
   "execution_count": null,
   "metadata": {},
   "outputs": [],
   "source": [
    "## Cleaning and encoding the 'artist genres' column\n",
    "# how many unique genre combos are there?\n",
    "df_data['artist_genres'].nunique()"
   ]
  },
  {
   "cell_type": "code",
   "execution_count": null,
   "metadata": {},
   "outputs": [],
   "source": [
    "## Cleaning and encoding the 'artist genres' column\n",
    "# Add a space after any commas if one is not already present\n",
    "df_data['artist_genres'] = df_data['artist_genres'].str.replace(\n",
    "    r',(?=\\S)', ', ', regex=True\n",
    "    )\n"
   ]
  },
  {
   "cell_type": "code",
   "execution_count": null,
   "metadata": {},
   "outputs": [],
   "source": [
    "## Cleaning and encoding the 'artist genres' column\n",
    "# Verify spaces added\n",
    "df_data['artist_genres'].value_counts()"
   ]
  },
  {
   "cell_type": "code",
   "execution_count": null,
   "metadata": {},
   "outputs": [],
   "source": [
    "## Cleaning and encoding the 'artist genres' column\n",
    "# replace spaces with and underscore where a letter character is on either side\n",
    "df_data['artist_genres'] = df_data['artist_genres'].str.replace(\n",
    "    r'(?<=[a-zA-Z]) (?=[a-zA-Z])', '_', regex=True\n",
    "    )"
   ]
  },
  {
   "cell_type": "code",
   "execution_count": null,
   "metadata": {},
   "outputs": [],
   "source": [
    "## Cleaning and encoding the 'artist genres' column\n",
    "# Verify underscores inserted\n",
    "df_data['artist_genres'].value_counts()"
   ]
  },
  {
   "cell_type": "code",
   "execution_count": null,
   "metadata": {},
   "outputs": [],
   "source": [
    "## check for any numbers"
   ]
  },
  {
   "cell_type": "code",
   "execution_count": null,
   "metadata": {},
   "outputs": [],
   "source": [
    "## Cleaning and encoding the 'artist genres' column\n",
    "# Split the ['artist_genres'] stings into lists\n",
    "df_data['artist_genres'] = df_data['artist_genres'].str.split(', ')"
   ]
  },
  {
   "cell_type": "code",
   "execution_count": null,
   "metadata": {},
   "outputs": [],
   "source": [
    "## Cleaning and encoding the 'artist genres' column\n",
    "# count unique values in ['artist_genres']\n",
    "# Flatten the lists in the 'artist genres' column into a single list\n",
    "flattened_list = [genre for sublist in df_data['artist_genres'] for genre in sublist]\n",
    "\n",
    "# Convert the flattened list to a set to get unique values\n",
    "unique_genres = set(flattened_list)\n",
    "\n",
    "# Count the number of unique values\n",
    "unique_genres_count = len(unique_genres)\n",
    "\n",
    "print(f\"Number of unique values in 'artist genres' column: {unique_genres_count}\")\n"
   ]
  },
  {
   "cell_type": "code",
   "execution_count": null,
   "metadata": {},
   "outputs": [],
   "source": [
    "## Cleaning and encoding the 'artist genres' column\n",
    "# Initialize MultiLabelBinarizer\n",
    "mlb = MultiLabelBinarizer()"
   ]
  },
  {
   "cell_type": "code",
   "execution_count": null,
   "metadata": {},
   "outputs": [],
   "source": [
    "## Cleaning and encoding the 'artist genres' column\n",
    "# fit and transform 'Artist Genres' column\n",
    "encoded_genres = mlb.fit_transform(df_data['artist_genres'])\n",
    "encoded_genres_df = pd.DataFrame(encoded_genres)\n",
    "encoded_genres_df.head()"
   ]
  },
  {
   "cell_type": "code",
   "execution_count": null,
   "metadata": {},
   "outputs": [],
   "source": [
    "# reduce dimensionality before concatenating (too many columns to run efficiently later)\n",
    "# Scale data with Standard Scaler\n",
    "scaler = StandardScaler()\n",
    "\n",
    "scaled_data = scaler.fit_transform(encoded_genres_df)\n",
    "\n",
    "# call PCA\n",
    "pca = PCA(n_components=5)\n",
    "\n",
    "# fit and apply\n",
    "genres_pca = pca.fit_transform(scaled_data)\n",
    "\n",
    "# Create DataFrame with PCA results\n",
    "genres_pca_df = pd.DataFrame(\n",
    "    genres_pca,\n",
    "    columns=['genre_pca_1', 'genre_pca_2', 'genre_pca_3', 'genre_pca_4', 'genre_pca_5']\n",
    ")\n",
    "\n",
    "genres_pca_df"
   ]
  },
  {
   "cell_type": "code",
   "execution_count": null,
   "metadata": {},
   "outputs": [],
   "source": [
    "## Cleaning and encoding the 'artist genres' column\n",
    "# concatinate back into the original DataFrame\n",
    "df_encoded = pd.concat([df_data.drop(columns=['artist_genres']), genres_pca_df], axis=1)\n",
    "\n",
    "# Handle missing values (if any)\n",
    "df_encoded.fillna(0, inplace=True)\n"
   ]
  },
  {
   "cell_type": "code",
   "execution_count": null,
   "metadata": {},
   "outputs": [],
   "source": [
    "utils.eda(df_encoded)"
   ]
  },
  {
   "cell_type": "code",
   "execution_count": null,
   "metadata": {},
   "outputs": [],
   "source": [
    "# Drop Extra index column created from Concatenating\n",
    "df_encoded.drop(columns=['index'])"
   ]
  },
  {
   "cell_type": "code",
   "execution_count": null,
   "metadata": {},
   "outputs": [],
   "source": [
    "# Encode the ['Explicit'] column\n",
    "df_encoded['explicit'] = df_encoded['explicit'].map({True: 1, False: 0})\n",
    "df_encoded.head()"
   ]
  },
  {
   "cell_type": "code",
   "execution_count": null,
   "metadata": {},
   "outputs": [],
   "source": [
    "# Check column datatype\n",
    "\n",
    "print(df_encoded['explicit'].dtype)"
   ]
  },
  {
   "cell_type": "code",
   "execution_count": null,
   "metadata": {},
   "outputs": [],
   "source": [
    "df_encoded.columns"
   ]
  },
  {
   "cell_type": "code",
   "execution_count": null,
   "metadata": {},
   "outputs": [],
   "source": [
    "# Drop all non-feature columns\n",
    "df_encoded = df_encoded.drop(columns=['track_name',\n",
    "                                      'artist_name',\n",
    "                                      'album_name',\n",
    "                                      'release_date',\n",
    "                                      'image'],\n",
    "                                      axis=1)\n"
   ]
  },
  {
   "cell_type": "code",
   "execution_count": null,
   "metadata": {},
   "outputs": [],
   "source": [
    "## Reduce the 'artist_genres' dimensionality with PCA\n",
    "# create a reference list for the columns\n",
    "df_encoded.columns"
   ]
  },
  {
   "cell_type": "code",
   "execution_count": null,
   "metadata": {},
   "outputs": [],
   "source": [
    "df_cleaned.head(5)"
   ]
  },
  {
   "cell_type": "code",
   "execution_count": null,
   "metadata": {},
   "outputs": [],
   "source": [
    "# Select only numeric columns for modeling\n",
    "numeric_features = df_cleaned.select_dtypes(include=['float64', 'int64']).columns\n",
    "\n",
    "# Create feature matrix X\n",
    "X = df_cleaned[numeric_features]\n",
    "\n",
    "# Optional: Create new features\n",
    "# Example: Combining features or creating ratios\n",
    "X['energy_valence_ratio'] = X['Energy'] / X['Valence']"
   ]
  },
  {
   "cell_type": "code",
   "execution_count": null,
   "metadata": {},
   "outputs": [],
   "source": [
    "X.head()"
   ]
  },
  {
   "cell_type": "code",
   "execution_count": null,
   "metadata": {},
   "outputs": [],
   "source": [
    "# Remove the problematic energy_valence_ratio column if it exists\n",
    "if 'energy_valence_ratio' in X.columns:\n",
    "    X = X.drop('energy_valence_ratio', axis=1)\n",
    "\n",
    "# Create the ratio feature with handling for zero values\n",
    "X['energy_valence_ratio'] = X['Energy'] / X['Valence'].replace(0, 0.0001)  # Replace zeros with small value\n",
    "\n",
    "# Now scale the features\n",
    "scaler = StandardScaler()\n",
    "X_scaled = scaler.fit_transform(X)\n",
    "X_scaled = pd.DataFrame(X_scaled, columns=X.columns)"
   ]
  },
  {
   "cell_type": "code",
   "execution_count": null,
   "metadata": {},
   "outputs": [],
   "source": [
    "# PCA for dimensionality reduction\n",
    "pca = PCA(n_components=0.95)  # Keep 95% of variance\n",
    "X_pca = pca.fit_transform(X_scaled)\n",
    "\n",
    "# Or t-SNE for non-linear dimensionality reduction\n",
    "tsne = TSNE(n_components=2, random_state=42)\n",
    "X_tsne = tsne.fit_transform(X_scaled)"
   ]
  },
  {
   "cell_type": "code",
   "execution_count": null,
   "metadata": {},
   "outputs": [],
   "source": [
    "# Using IQR method to detect outliers\n",
    "def remove_outliers(df, columns):\n",
    "    df_clean = df.copy()\n",
    "    for col in columns:\n",
    "        Q1 = df_clean[col].quantile(0.25)\n",
    "        Q3 = df_clean[col].quantile(0.75)\n",
    "        IQR = Q3 - Q1\n",
    "        lower_bound = Q1 - 1.5 * IQR\n",
    "        upper_bound = Q3 + 1.5 * IQR\n",
    "        df_clean = df_clean[(df_clean[col] >= lower_bound) & (df_clean[col] <= upper_bound)]\n",
    "    return df_clean\n",
    "\n",
    "# Apply outlier removal\n",
    "X_no_outliers = remove_outliers(X_scaled, X_scaled.columns)"
   ]
  },
  {
   "cell_type": "code",
   "execution_count": null,
   "metadata": {},
   "outputs": [],
   "source": [
    "df_cleaned.head()"
   ]
  },
  {
   "cell_type": "code",
   "execution_count": null,
   "metadata": {},
   "outputs": [],
   "source": [
    "#unique_genres = set(df_cleaned['Artist Genres'].str.split(',').explode().value_counts())\n",
    "unique_genres = df_cleaned['Artist Genres'].str.split(',').explode().value_counts()\n",
    "print(len(unique_genres))\n",
    "print(unique_genres.head(20))"
   ]
  },
  {
   "cell_type": "code",
   "execution_count": null,
   "metadata": {},
   "outputs": [],
   "source": [
    "# Looking at the error message and available columns, we see that 'Album Genres' doesn't exist\n",
    "# Let's use 'Artist Genres' instead since we already have that data\n",
    "\n",
    "# Get genre counts from the already exploded Artist Genres\n",
    "genre_counts = df_cleaned['Artist Genres'].value_counts()\n",
    "\n",
    "# Select top N genres (e.g., top 20)\n",
    "top_n_genres = 20\n",
    "top_genres = genre_counts.head(top_n_genres).index\n",
    "\n",
    "# Create dummies only for top genres\n",
    "genre_dummies = pd.get_dummies(\n",
    "    df_cleaned['Artist Genres'].where(df_cleaned['Artist Genres'].isin(top_genres), 'other'),\n",
    "    prefix='genre'\n",
    ")\n",
    "\n",
    "# Group by index and join with original dataframe\n",
    "genre_dummies = genre_dummies.groupby(df_cleaned.index).sum()\n",
    "df_with_top_genres = pd.concat([df_cleaned, genre_dummies], axis=1)\n",
    "\n",
    "# No need to drop 'Album Genres' since it doesn't exist\n",
    "# df_with_top_genres = df_with_top_genres.drop('Album Genres', axis=1)\n",
    "\n",
    "print(\"\\nShape with top genres only:\", df_with_top_genres.shape)\n",
    "print(\"\\nTop genre columns:\", genre_dummies.columns.tolist())"
   ]
  },
  {
   "cell_type": "code",
   "execution_count": null,
   "metadata": {},
   "outputs": [],
   "source": [
    "df_with_top_genres.info()"
   ]
  },
  {
   "cell_type": "code",
   "execution_count": null,
   "metadata": {},
   "outputs": [],
   "source": [
    "df_with_top_genres.head()"
   ]
  },
  {
   "cell_type": "code",
   "execution_count": null,
   "metadata": {},
   "outputs": [],
   "source": [
    "# Test the models\n",
    "# Unsupervised models K-means, Gaussian "
   ]
  },
  {
   "cell_type": "code",
   "execution_count": null,
   "metadata": {},
   "outputs": [],
   "source": [
    "# visualize model accuracy\n",
    "# the elbow thing\n",
    "# mushroom pizza\n",
    "# "
   ]
  },
  {
   "cell_type": "code",
   "execution_count": null,
   "metadata": {},
   "outputs": [],
   "source": [
    "# Build a GUI to display input/output\n",
    "#\n",
    "# "
   ]
  },
  {
   "cell_type": "code",
   "execution_count": null,
   "metadata": {},
   "outputs": [],
   "source": []
  },
  {
   "cell_type": "code",
   "execution_count": null,
   "metadata": {},
   "outputs": [],
   "source": []
  },
  {
   "cell_type": "code",
   "execution_count": null,
   "metadata": {},
   "outputs": [],
   "source": []
  },
  {
   "cell_type": "code",
   "execution_count": null,
   "metadata": {},
   "outputs": [],
   "source": []
  }
 ],
 "metadata": {
  "kernelspec": {
   "display_name": "dev",
   "language": "python",
   "name": "python3"
  },
  "language_info": {
   "codemirror_mode": {
    "name": "ipython",
    "version": 3
   },
   "file_extension": ".py",
   "mimetype": "text/x-python",
   "name": "python",
   "nbconvert_exporter": "python",
   "pygments_lexer": "ipython3",
   "version": "3.10.15"
  }
 },
 "nbformat": 4,
 "nbformat_minor": 2
}
